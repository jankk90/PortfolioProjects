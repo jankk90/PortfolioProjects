{
 "cells": [
  {
   "cell_type": "code",
   "execution_count": 1,
   "metadata": {},
   "outputs": [],
   "source": [
    "import pandas as pd                       #to perform data manipulation and analysis\n",
    "import numpy as np                        #to cleanse data\n",
    "from datetime import datetime             #to manipulate dates\n",
    "from xlrd.sheet import empty_cell"
   ]
  },
  {
   "cell_type": "code",
   "execution_count": 31,
   "metadata": {},
   "outputs": [],
   "source": [
    "df = pd.read_csv(\"bank.csv\")"
   ]
  },
  {
   "cell_type": "code",
   "execution_count": 3,
   "metadata": {
    "scrolled": true
   },
   "outputs": [
    {
     "data": {
      "text/html": [
       "<div>\n",
       "<style scoped>\n",
       "    .dataframe tbody tr th:only-of-type {\n",
       "        vertical-align: middle;\n",
       "    }\n",
       "\n",
       "    .dataframe tbody tr th {\n",
       "        vertical-align: top;\n",
       "    }\n",
       "\n",
       "    .dataframe thead th {\n",
       "        text-align: right;\n",
       "    }\n",
       "</style>\n",
       "<table border=\"1\" class=\"dataframe\">\n",
       "  <thead>\n",
       "    <tr style=\"text-align: right;\">\n",
       "      <th></th>\n",
       "      <th>Date</th>\n",
       "      <th>Transaction</th>\n",
       "      <th>Amount</th>\n",
       "    </tr>\n",
       "  </thead>\n",
       "  <tbody>\n",
       "    <tr>\n",
       "      <th>0</th>\n",
       "      <td>10/13/2021</td>\n",
       "      <td>PAPA JOHN'S PIZZA #12    289-270-2550 ON</td>\n",
       "      <td>-18.22</td>\n",
       "    </tr>\n",
       "    <tr>\n",
       "      <th>1</th>\n",
       "      <td>10/13/2021</td>\n",
       "      <td>ESSO CIRCLE K 0302       GUELPH       ON</td>\n",
       "      <td>-40.00</td>\n",
       "    </tr>\n",
       "    <tr>\n",
       "      <th>2</th>\n",
       "      <td>10/13/2021</td>\n",
       "      <td>ROYAL CITY TENNIS CLUB   Guelph       ON</td>\n",
       "      <td>-17.40</td>\n",
       "    </tr>\n",
       "    <tr>\n",
       "      <th>3</th>\n",
       "      <td>10/14/2021</td>\n",
       "      <td>SOBEYS #852 KITCHENER    KITCHENER    ON</td>\n",
       "      <td>-8.02</td>\n",
       "    </tr>\n",
       "    <tr>\n",
       "      <th>4</th>\n",
       "      <td>10/15/2021</td>\n",
       "      <td>MB-CREDIT CARD/LOC PAY.           FROM - *****...</td>\n",
       "      <td>500.00</td>\n",
       "    </tr>\n",
       "  </tbody>\n",
       "</table>\n",
       "</div>"
      ],
      "text/plain": [
       "         Date                                        Transaction  Amount\n",
       "0  10/13/2021          PAPA JOHN'S PIZZA #12    289-270-2550 ON   -18.22\n",
       "1  10/13/2021          ESSO CIRCLE K 0302       GUELPH       ON   -40.00\n",
       "2  10/13/2021          ROYAL CITY TENNIS CLUB   Guelph       ON   -17.40\n",
       "3  10/14/2021          SOBEYS #852 KITCHENER    KITCHENER    ON    -8.02\n",
       "4  10/15/2021  MB-CREDIT CARD/LOC PAY.           FROM - *****...  500.00"
      ]
     },
     "execution_count": 3,
     "metadata": {},
     "output_type": "execute_result"
    }
   ],
   "source": [
    "df.head()\n"
   ]
  },
  {
   "cell_type": "markdown",
   "metadata": {},
   "source": [
    "<b><FONT COLOR= blue>Change amount to number and remove any positive only to keep expenses</b>"
   ]
  },
  {
   "cell_type": "code",
   "execution_count": 4,
   "metadata": {},
   "outputs": [],
   "source": [
    "df['Amount']=pd.to_numeric(df['Amount'])"
   ]
  },
  {
   "cell_type": "code",
   "execution_count": 5,
   "metadata": {},
   "outputs": [],
   "source": [
    "df=df[df['Amount']<0]"
   ]
  },
  {
   "cell_type": "code",
   "execution_count": 6,
   "metadata": {},
   "outputs": [
    {
     "data": {
      "text/html": [
       "<div>\n",
       "<style scoped>\n",
       "    .dataframe tbody tr th:only-of-type {\n",
       "        vertical-align: middle;\n",
       "    }\n",
       "\n",
       "    .dataframe tbody tr th {\n",
       "        vertical-align: top;\n",
       "    }\n",
       "\n",
       "    .dataframe thead th {\n",
       "        text-align: right;\n",
       "    }\n",
       "</style>\n",
       "<table border=\"1\" class=\"dataframe\">\n",
       "  <thead>\n",
       "    <tr style=\"text-align: right;\">\n",
       "      <th></th>\n",
       "      <th>Date</th>\n",
       "      <th>Transaction</th>\n",
       "      <th>Amount</th>\n",
       "    </tr>\n",
       "  </thead>\n",
       "  <tbody>\n",
       "    <tr>\n",
       "      <th>0</th>\n",
       "      <td>10/13/2021</td>\n",
       "      <td>PAPA JOHN'S PIZZA #12    289-270-2550 ON</td>\n",
       "      <td>-18.22</td>\n",
       "    </tr>\n",
       "    <tr>\n",
       "      <th>1</th>\n",
       "      <td>10/13/2021</td>\n",
       "      <td>ESSO CIRCLE K 0302       GUELPH       ON</td>\n",
       "      <td>-40.00</td>\n",
       "    </tr>\n",
       "    <tr>\n",
       "      <th>2</th>\n",
       "      <td>10/13/2021</td>\n",
       "      <td>ROYAL CITY TENNIS CLUB   Guelph       ON</td>\n",
       "      <td>-17.40</td>\n",
       "    </tr>\n",
       "    <tr>\n",
       "      <th>3</th>\n",
       "      <td>10/14/2021</td>\n",
       "      <td>SOBEYS #852 KITCHENER    KITCHENER    ON</td>\n",
       "      <td>-8.02</td>\n",
       "    </tr>\n",
       "    <tr>\n",
       "      <th>5</th>\n",
       "      <td>10/16/2021</td>\n",
       "      <td>PAPA GIUSEPPE`S PORT CREDMISSISSAUGA  ON</td>\n",
       "      <td>-75.98</td>\n",
       "    </tr>\n",
       "  </tbody>\n",
       "</table>\n",
       "</div>"
      ],
      "text/plain": [
       "         Date                                Transaction  Amount\n",
       "0  10/13/2021  PAPA JOHN'S PIZZA #12    289-270-2550 ON   -18.22\n",
       "1  10/13/2021  ESSO CIRCLE K 0302       GUELPH       ON   -40.00\n",
       "2  10/13/2021  ROYAL CITY TENNIS CLUB   Guelph       ON   -17.40\n",
       "3  10/14/2021  SOBEYS #852 KITCHENER    KITCHENER    ON    -8.02\n",
       "5  10/16/2021  PAPA GIUSEPPE`S PORT CREDMISSISSAUGA  ON   -75.98"
      ]
     },
     "execution_count": 6,
     "metadata": {},
     "output_type": "execute_result"
    }
   ],
   "source": [
    "df.head()"
   ]
  },
  {
   "cell_type": "code",
   "execution_count": 7,
   "metadata": {
    "scrolled": true
   },
   "outputs": [
    {
     "data": {
      "text/plain": [
       "Date            object\n",
       "Transaction     object\n",
       "Amount         float64\n",
       "dtype: object"
      ]
     },
     "execution_count": 7,
     "metadata": {},
     "output_type": "execute_result"
    }
   ],
   "source": [
    "df.dtypes"
   ]
  },
  {
   "cell_type": "markdown",
   "metadata": {},
   "source": [
    "<b><FONT COLOR= blue>Update the amounts as positive to avoid confusion</b>"
   ]
  },
  {
   "cell_type": "code",
   "execution_count": 14,
   "metadata": {},
   "outputs": [],
   "source": [
    "df['Amount']=df['Amount']*(-1)"
   ]
  },
  {
   "cell_type": "code",
   "execution_count": 15,
   "metadata": {},
   "outputs": [
    {
     "data": {
      "text/html": [
       "<div>\n",
       "<style scoped>\n",
       "    .dataframe tbody tr th:only-of-type {\n",
       "        vertical-align: middle;\n",
       "    }\n",
       "\n",
       "    .dataframe tbody tr th {\n",
       "        vertical-align: top;\n",
       "    }\n",
       "\n",
       "    .dataframe thead th {\n",
       "        text-align: right;\n",
       "    }\n",
       "</style>\n",
       "<table border=\"1\" class=\"dataframe\">\n",
       "  <thead>\n",
       "    <tr style=\"text-align: right;\">\n",
       "      <th></th>\n",
       "      <th>Date</th>\n",
       "      <th>Transaction</th>\n",
       "      <th>Amount</th>\n",
       "      <th>Category</th>\n",
       "    </tr>\n",
       "  </thead>\n",
       "  <tbody>\n",
       "    <tr>\n",
       "      <th>0</th>\n",
       "      <td>10/13/2021</td>\n",
       "      <td>PAPA JOHN'S PIZZA #12    289-270-2550 ON</td>\n",
       "      <td>18.22</td>\n",
       "      <td></td>\n",
       "    </tr>\n",
       "    <tr>\n",
       "      <th>1</th>\n",
       "      <td>10/13/2021</td>\n",
       "      <td>ESSO CIRCLE K 0302       GUELPH       ON</td>\n",
       "      <td>40.00</td>\n",
       "      <td></td>\n",
       "    </tr>\n",
       "    <tr>\n",
       "      <th>2</th>\n",
       "      <td>10/13/2021</td>\n",
       "      <td>ROYAL CITY TENNIS CLUB   Guelph       ON</td>\n",
       "      <td>17.40</td>\n",
       "      <td></td>\n",
       "    </tr>\n",
       "    <tr>\n",
       "      <th>3</th>\n",
       "      <td>10/14/2021</td>\n",
       "      <td>SOBEYS #852 KITCHENER    KITCHENER    ON</td>\n",
       "      <td>8.02</td>\n",
       "      <td></td>\n",
       "    </tr>\n",
       "    <tr>\n",
       "      <th>5</th>\n",
       "      <td>10/16/2021</td>\n",
       "      <td>PAPA GIUSEPPE`S PORT CREDMISSISSAUGA  ON</td>\n",
       "      <td>75.98</td>\n",
       "      <td></td>\n",
       "    </tr>\n",
       "  </tbody>\n",
       "</table>\n",
       "</div>"
      ],
      "text/plain": [
       "         Date                                Transaction  Amount Category\n",
       "0  10/13/2021  PAPA JOHN'S PIZZA #12    289-270-2550 ON    18.22         \n",
       "1  10/13/2021  ESSO CIRCLE K 0302       GUELPH       ON    40.00         \n",
       "2  10/13/2021  ROYAL CITY TENNIS CLUB   Guelph       ON    17.40         \n",
       "3  10/14/2021  SOBEYS #852 KITCHENER    KITCHENER    ON     8.02         \n",
       "5  10/16/2021  PAPA GIUSEPPE`S PORT CREDMISSISSAUGA  ON    75.98         "
      ]
     },
     "execution_count": 15,
     "metadata": {},
     "output_type": "execute_result"
    }
   ],
   "source": [
    "df.head()\n"
   ]
  },
  {
   "cell_type": "markdown",
   "metadata": {},
   "source": [
    "<b><FONT COLOR= blue>Adding a column called Category</b>"
   ]
  },
  {
   "cell_type": "code",
   "execution_count": 16,
   "metadata": {},
   "outputs": [],
   "source": [
    "df['Category']=\"\"\n",
    "    "
   ]
  },
  {
   "cell_type": "markdown",
   "metadata": {},
   "source": [
    "<b><FONT COLOR= blue>Iterate through each row</b>"
   ]
  },
  {
   "cell_type": "code",
   "execution_count": 12,
   "metadata": {},
   "outputs": [],
   "source": [
    "df['Transaction'] = df['Transaction'].astype('string')\n",
    "df['Category'] = df['Category'].astype('string')"
   ]
  },
  {
   "cell_type": "code",
   "execution_count": 26,
   "metadata": {},
   "outputs": [
    {
     "data": {
      "text/plain": [
       "Date            object\n",
       "Transaction     string\n",
       "Amount         float64\n",
       "Category        string\n",
       "dtype: object"
      ]
     },
     "execution_count": 26,
     "metadata": {},
     "output_type": "execute_result"
    }
   ],
   "source": [
    "df.dtypes"
   ]
  },
  {
   "cell_type": "code",
   "execution_count": 17,
   "metadata": {},
   "outputs": [
    {
     "data": {
      "text/plain": [
       "2588.94"
      ]
     },
     "execution_count": 17,
     "metadata": {},
     "output_type": "execute_result"
    }
   ],
   "source": [
    "df.Amount.sum()"
   ]
  },
  {
   "cell_type": "markdown",
   "metadata": {},
   "source": [
    "<b><FONT COLOR= blue>Categorizing every transaction</b>"
   ]
  },
  {
   "cell_type": "code",
   "execution_count": 19,
   "metadata": {},
   "outputs": [],
   "source": [
    "df.loc[df['Transaction'].str.contains('PIZZA|JERK|A&W|TIM|PAPA|ROUTE|BASKIN|JUICE|HJMAC|BK|STARBUCKS|SKIP|DONUT'), 'Category'] = 'FOOD'\n",
    "df.loc[df['Transaction'].str.contains('ESSO|PETRO'), 'Category'] = 'GAS'\n",
    "df.loc[df['Transaction'].str.contains('TENNIS'), 'Category'] = 'ENTERTAINMENT'\n",
    "df.loc[df['Transaction'].str.contains('AMAZON|REXALL'), 'Category'] = 'NECESSITY'\n",
    "df.loc[df['Transaction'].str.contains('MAZDA'), 'Category'] = 'CAR'\n",
    "df.loc[df['Transaction'].str.contains('SOBEYS|MARKET'), 'Category'] = 'GROCERY'\n",
    "df.loc[df['Transaction'].str.contains('LCBO'), 'Category'] = 'ALCOHOL'\n",
    "df.loc[df['Transaction'].str.contains('GOOGLE|SEOUL'), 'Category'] = 'SUBSCRIPTION'\n",
    "df.loc[df['Transaction'].str.contains('LUSH|NIKE'), 'Category'] = 'SHOPPING'\n",
    "df.loc[df['Transaction'].str.contains('VIRGIN|FIDO|ROGERS'), 'Category'] = 'BILL'"
   ]
  },
  {
   "cell_type": "code",
   "execution_count": 20,
   "metadata": {},
   "outputs": [
    {
     "data": {
      "text/html": [
       "<div>\n",
       "<style scoped>\n",
       "    .dataframe tbody tr th:only-of-type {\n",
       "        vertical-align: middle;\n",
       "    }\n",
       "\n",
       "    .dataframe tbody tr th {\n",
       "        vertical-align: top;\n",
       "    }\n",
       "\n",
       "    .dataframe thead th {\n",
       "        text-align: right;\n",
       "    }\n",
       "</style>\n",
       "<table border=\"1\" class=\"dataframe\">\n",
       "  <thead>\n",
       "    <tr style=\"text-align: right;\">\n",
       "      <th></th>\n",
       "      <th>Amount</th>\n",
       "    </tr>\n",
       "    <tr>\n",
       "      <th>Category</th>\n",
       "      <th></th>\n",
       "    </tr>\n",
       "  </thead>\n",
       "  <tbody>\n",
       "    <tr>\n",
       "      <th></th>\n",
       "      <td>25.09</td>\n",
       "    </tr>\n",
       "    <tr>\n",
       "      <th>ALCOHOL</th>\n",
       "      <td>72.25</td>\n",
       "    </tr>\n",
       "    <tr>\n",
       "      <th>BILL</th>\n",
       "      <td>210.58</td>\n",
       "    </tr>\n",
       "    <tr>\n",
       "      <th>CAR</th>\n",
       "      <td>897.94</td>\n",
       "    </tr>\n",
       "    <tr>\n",
       "      <th>ENTERTAINMENT</th>\n",
       "      <td>34.80</td>\n",
       "    </tr>\n",
       "    <tr>\n",
       "      <th>FOOD</th>\n",
       "      <td>450.13</td>\n",
       "    </tr>\n",
       "    <tr>\n",
       "      <th>GAS</th>\n",
       "      <td>390.00</td>\n",
       "    </tr>\n",
       "    <tr>\n",
       "      <th>GROCERY</th>\n",
       "      <td>165.73</td>\n",
       "    </tr>\n",
       "    <tr>\n",
       "      <th>NECESSITY</th>\n",
       "      <td>190.14</td>\n",
       "    </tr>\n",
       "    <tr>\n",
       "      <th>SHOPPING</th>\n",
       "      <td>108.34</td>\n",
       "    </tr>\n",
       "    <tr>\n",
       "      <th>SUBSCRIPTION</th>\n",
       "      <td>43.94</td>\n",
       "    </tr>\n",
       "  </tbody>\n",
       "</table>\n",
       "</div>"
      ],
      "text/plain": [
       "               Amount\n",
       "Category             \n",
       "                25.09\n",
       "ALCOHOL         72.25\n",
       "BILL           210.58\n",
       "CAR            897.94\n",
       "ENTERTAINMENT   34.80\n",
       "FOOD           450.13\n",
       "GAS            390.00\n",
       "GROCERY        165.73\n",
       "NECESSITY      190.14\n",
       "SHOPPING       108.34\n",
       "SUBSCRIPTION    43.94"
      ]
     },
     "execution_count": 20,
     "metadata": {},
     "output_type": "execute_result"
    }
   ],
   "source": [
    "df.groupby('Category').sum()"
   ]
  },
  {
   "cell_type": "code",
   "execution_count": 58,
   "metadata": {},
   "outputs": [
    {
     "data": {
      "text/plain": [
       "['FOOD',\n",
       " 'GAS',\n",
       " 'ENTERTAINMENT',\n",
       " 'GROCERY',\n",
       " 'CAR',\n",
       " 'SHOPPING',\n",
       " 'NECESSITY',\n",
       " 'SUBSCRIPTION',\n",
       " 'ALCOHOL',\n",
       " 'BILL',\n",
       " '']"
      ]
     },
     "execution_count": 58,
     "metadata": {},
     "output_type": "execute_result"
    }
   ],
   "source": [
    "Categorylist=list(df.Category.unique())\n",
    "Categorylist"
   ]
  },
  {
   "cell_type": "markdown",
   "metadata": {},
   "source": [
    "<b><FONT COLOR= blue>If any blank cells exist in Category column, Get those rows</b>"
   ]
  },
  {
   "cell_type": "code",
   "execution_count": 21,
   "metadata": {},
   "outputs": [
    {
     "data": {
      "text/html": [
       "<div>\n",
       "<style scoped>\n",
       "    .dataframe tbody tr th:only-of-type {\n",
       "        vertical-align: middle;\n",
       "    }\n",
       "\n",
       "    .dataframe tbody tr th {\n",
       "        vertical-align: top;\n",
       "    }\n",
       "\n",
       "    .dataframe thead th {\n",
       "        text-align: right;\n",
       "    }\n",
       "</style>\n",
       "<table border=\"1\" class=\"dataframe\">\n",
       "  <thead>\n",
       "    <tr style=\"text-align: right;\">\n",
       "      <th></th>\n",
       "      <th>Date</th>\n",
       "      <th>Transaction</th>\n",
       "      <th>Amount</th>\n",
       "      <th>Category</th>\n",
       "    </tr>\n",
       "  </thead>\n",
       "  <tbody>\n",
       "    <tr>\n",
       "      <th>45</th>\n",
       "      <td>11/7/2021</td>\n",
       "      <td>CDN TIRE STORE 0039430000MILTON       ON  (APP...</td>\n",
       "      <td>7.90</td>\n",
       "      <td></td>\n",
       "    </tr>\n",
       "    <tr>\n",
       "      <th>52</th>\n",
       "      <td>11/12/2021</td>\n",
       "      <td>Mind Games TPO Mind GamesHalton Hills ON</td>\n",
       "      <td>16.94</td>\n",
       "      <td></td>\n",
       "    </tr>\n",
       "    <tr>\n",
       "      <th>53</th>\n",
       "      <td>11/12/2021</td>\n",
       "      <td>CITY OF BURLINGTON       NORTH YORK   ON</td>\n",
       "      <td>0.25</td>\n",
       "      <td></td>\n",
       "    </tr>\n",
       "  </tbody>\n",
       "</table>\n",
       "</div>"
      ],
      "text/plain": [
       "          Date                                        Transaction  Amount  \\\n",
       "45   11/7/2021  CDN TIRE STORE 0039430000MILTON       ON  (APP...    7.90   \n",
       "52  11/12/2021          Mind Games TPO Mind GamesHalton Hills ON    16.94   \n",
       "53  11/12/2021          CITY OF BURLINGTON       NORTH YORK   ON     0.25   \n",
       "\n",
       "   Category  \n",
       "45           \n",
       "52           \n",
       "53           "
      ]
     },
     "execution_count": 21,
     "metadata": {},
     "output_type": "execute_result"
    }
   ],
   "source": [
    "df[df['Category'].eq('')]"
   ]
  },
  {
   "cell_type": "markdown",
   "metadata": {},
   "source": [
    "<b><FONT COLOR= blue>Fill in the empty Category</b>"
   ]
  },
  {
   "cell_type": "code",
   "execution_count": 22,
   "metadata": {},
   "outputs": [],
   "source": [
    "df.loc[df['Transaction'].str.contains('Games'), 'Category'] = 'ENTERTAINMENT'\n",
    "df.loc[df['Transaction'].str.contains('TIRE|CITY'), 'Category'] = 'NECESSITY'\n"
   ]
  },
  {
   "cell_type": "markdown",
   "metadata": {},
   "source": [
    "<b><FONT COLOR= blue>Changing the Category column to a list</b>"
   ]
  },
  {
   "cell_type": "code",
   "execution_count": 25,
   "metadata": {},
   "outputs": [],
   "source": [
    "Categorylist=list(df.Category.unique())"
   ]
  },
  {
   "cell_type": "code",
   "execution_count": 27,
   "metadata": {},
   "outputs": [
    {
     "data": {
      "image/png": "[encoded data removed]",
      "text/plain": [
       "<Figure size 432x288 with 1 Axes>"
      ]
     },
     "metadata": {
      "needs_background": "light"
     },
     "output_type": "display_data"
    }
   ],
   "source": [
    "import matplotlib.pyplot as plt\n",
    "\n",
    "plt.bar(Categorylist,df.groupby('Category').sum()['Amount'])\n",
    "plt.title('Expense Report')\n",
    "plt.ylabel('Amount Spent')\n",
    "plt.xlabel('Category')\n",
    "plt.xticks(Categorylist, rotation='vertical', size=8)\n",
    "plt.show()"
   ]
  }
 ],
 "metadata": {
  "kernelspec": {
   "display_name": "Python 3",
   "language": "python",
   "name": "python3"
  },
  "language_info": {
   "codemirror_mode": {
    "name": "ipython",
    "version": 3
   },
   "file_extension": ".py",
   "mimetype": "text/x-python",
   "name": "python",
   "nbconvert_exporter": "python",
   "pygments_lexer": "ipython3",
   "version": "3.7.6"
  }
 },
 "nbformat": 4,
 "nbformat_minor": 4
}
